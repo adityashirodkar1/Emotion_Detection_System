{
 "cells": [
  {
   "cell_type": "markdown",
   "id": "b0e89e3e",
   "metadata": {},
   "source": [
    "# Emotion Detection"
   ]
  },
  {
   "cell_type": "markdown",
   "id": "7178260b",
   "metadata": {},
   "source": [
    "IMPORTING REQUIRED MODULES"
   ]
  },
  {
   "cell_type": "code",
   "execution_count": 7,
   "id": "5923a410",
   "metadata": {},
   "outputs": [
    {
     "name": "stdout",
     "output_type": "stream",
     "text": [
      "Tensorflow version:  2.13.0\n"
     ]
    }
   ],
   "source": [
    "import matplotlib.pyplot as plt\n",
    "from glob import glob\n",
    "import cv2\n",
    "import random\n",
    "import os\n",
    "%matplotlib inline\n",
    "\n",
    "from tensorflow.keras.preprocessing.image import ImageDataGenerator\n",
    "from tensorflow.keras.layers import Dense, Input, Dropout, Flatten, Conv2D\n",
    "from tensorflow.keras.layers import BatchNormalization, Activation, MaxPooling2D\n",
    "from tensorflow.keras.models import Model, Sequential\n",
    "from tensorflow.keras.optimizers import Adam\n",
    "from tensorflow.keras.callbacks import ModelCheckpoint, ReduceLROnPlateau\n",
    "from tensorflow.keras.utils import plot_model\n",
    "\n",
    "from IPython.display import SVG, Image\n",
    "import tensorflow as tf\n",
    "print(\"Tensorflow version: \", tf.__version__)"
   ]
  },
  {
   "cell_type": "markdown",
   "id": "2ce8384c",
   "metadata": {},
   "source": [
    "EXPLORING DATASET"
   ]
  },
  {
   "cell_type": "code",
   "execution_count": 8,
   "id": "f5da5d67",
   "metadata": {},
   "outputs": [
    {
     "data": {
      "image/png": "[encoded data removed]",
      "text/plain": [
       "<Figure size 1200x1200 with 1 Axes>"
      ]
     },
     "metadata": {},
     "output_type": "display_data"
    }
   ],
   "source": [
    "images = glob(\"train/**/**\")\n",
    "for i in range(1):\n",
    "    image = random.choice(images)\n",
    "    plt.figure(figsize=(12,12))\n",
    "    plt.subplot(331+i)\n",
    "    plt.imshow(cv2.imread(image));plt.axis('off')"
   ]
  },
  {
   "cell_type": "markdown",
   "id": "f844b7ec",
   "metadata": {},
   "source": [
    "PREPARING DATA FOR TRAINING"
   ]
  },
  {
   "cell_type": "code",
   "execution_count": 9,
   "id": "47c7c48e",
   "metadata": {},
   "outputs": [
    {
     "name": "stdout",
     "output_type": "stream",
     "text": [
      "Found 28709 images belonging to 7 classes.\n",
      "Found 7178 images belonging to 7 classes.\n"
     ]
    }
   ],
   "source": [
    "img_size = 48\n",
    "batch_size = 64\n",
    "datagen_train = ImageDataGenerator()\n",
    "train_generator = datagen_train.flow_from_directory(\"train/\", \n",
    "                                                    target_size = (img_size,img_size), \n",
    "                                                    color_mode = \"grayscale\",\n",
    "                                                    batch_size = batch_size,\n",
    "                                                    class_mode = \"categorical\",\n",
    "                                                    shuffle = True)\n",
    "\n",
    "datagen_validation = ImageDataGenerator()\n",
    "validation_generator = datagen_validation.flow_from_directory(\"test/\", \n",
    "                                                    target_size = (img_size,img_size), \n",
    "                                                    color_mode = \"grayscale\",\n",
    "                                                    batch_size = batch_size,\n",
    "                                                    class_mode = \"categorical\",\n",
    "                                                    shuffle = True)"
   ]
  },
  {
   "cell_type": "markdown",
   "id": "353c47bb",
   "metadata": {},
   "source": [
    "DEFINING MODEL"
   ]
  },
  {
   "cell_type": "code",
   "execution_count": 10,
   "id": "cec5112b",
   "metadata": {},
   "outputs": [],
   "source": [
    "def Convolution(input_tensor, filters, kernel_size):\n",
    "    x = Conv2D(filters = filters, kernel_size = kernel_size, padding = \"same\")(input_tensor)\n",
    "    x = BatchNormalization()(x)\n",
    "    x = Activation('relu')(x)\n",
    "    x = MaxPooling2D(pool_size = (2,2))(x)\n",
    "    x = Dropout(0.25)(x)\n",
    "    \n",
    "    return x"
   ]
  },
  {
   "cell_type": "code",
   "execution_count": 11,
   "id": "2d8bd167",
   "metadata": {},
   "outputs": [],
   "source": [
    "def Dense_f(input_tensor, nodes):\n",
    "    x = Dense(nodes)(input_tensor)\n",
    "    x = BatchNormalization()(x)\n",
    "    x = Activation('relu')(x)\n",
    "    x = Dropout(0.25)(x)\n",
    "    \n",
    "    return x"
   ]
  },
  {
   "cell_type": "code",
   "execution_count": 12,
   "id": "676e068b",
   "metadata": {},
   "outputs": [],
   "source": [
    "def model_fer(input_shape):\n",
    "    inputs = Input(input_shape)\n",
    "    conv_1 = Convolution(inputs, 32, (3,3))\n",
    "    conv_2 = Convolution(conv_1, 64, (5,5))\n",
    "    conv_3 = Convolution(conv_2, 128, (3,3))\n",
    "    \n",
    "    flatten = Flatten()(conv_3)\n",
    "    dense_1 = Dense_f(flatten,256)\n",
    "    \n",
    "    output = Dense(7,activation = \"softmax\")(dense_1)\n",
    "    model = Model(inputs = [inputs], outputs = [output])\n",
    "    \n",
    "    model.compile(loss = ['categorical_crossentropy'], optimizer = 'adam', metrics = ['accuracy'])\n",
    "    \n",
    "    return model"
   ]
  },
  {
   "cell_type": "code",
   "execution_count": 13,
   "id": "4b26ce54",
   "metadata": {},
   "outputs": [
    {
     "name": "stdout",
     "output_type": "stream",
     "text": [
      "Model: \"model\"\n",
      "_________________________________________________________________\n",
      " Layer (type)                Output Shape              Param #   \n",
      "=================================================================\n",
      " input_1 (InputLayer)        [(None, 48, 48, 1)]       0         \n",
      "                                                                 \n",
      " conv2d (Conv2D)             (None, 48, 48, 32)        320       \n",
      "                                                                 \n",
      " batch_normalization (Batch  (None, 48, 48, 32)        128       \n",
      " Normalization)                                                  \n",
      "                                                                 \n",
      " activation (Activation)     (None, 48, 48, 32)        0         \n",
      "                                                                 \n",
      " max_pooling2d (MaxPooling2  (None, 24, 24, 32)        0         \n",
      " D)                                                              \n",
      "                                                                 \n",
      " dropout (Dropout)           (None, 24, 24, 32)        0         \n",
      "                                                                 \n",
      " conv2d_1 (Conv2D)           (None, 24, 24, 64)        51264     \n",
      "                                                                 \n",
      " batch_normalization_1 (Bat  (None, 24, 24, 64)        256       \n",
      " chNormalization)                                                \n",
      "                                                                 \n",
      " activation_1 (Activation)   (None, 24, 24, 64)        0         \n",
      "                                                                 \n",
      " max_pooling2d_1 (MaxPoolin  (None, 12, 12, 64)        0         \n",
      " g2D)                                                            \n",
      "                                                                 \n",
      " dropout_1 (Dropout)         (None, 12, 12, 64)        0         \n",
      "                                                                 \n",
      " conv2d_2 (Conv2D)           (None, 12, 12, 128)       73856     \n",
      "                                                                 \n",
      " batch_normalization_2 (Bat  (None, 12, 12, 128)       512       \n",
      " chNormalization)                                                \n",
      "                                                                 \n",
      " activation_2 (Activation)   (None, 12, 12, 128)       0         \n",
      "                                                                 \n",
      " max_pooling2d_2 (MaxPoolin  (None, 6, 6, 128)         0         \n",
      " g2D)                                                            \n",
      "                                                                 \n",
      " dropout_2 (Dropout)         (None, 6, 6, 128)         0         \n",
      "                                                                 \n",
      " flatten (Flatten)           (None, 4608)              0         \n",
      "                                                                 \n",
      " dense (Dense)               (None, 256)               1179904   \n",
      "                                                                 \n",
      " batch_normalization_3 (Bat  (None, 256)               1024      \n",
      " chNormalization)                                                \n",
      "                                                                 \n",
      " activation_3 (Activation)   (None, 256)               0         \n",
      "                                                                 \n",
      " dropout_3 (Dropout)         (None, 256)               0         \n",
      "                                                                 \n",
      " dense_1 (Dense)             (None, 7)                 1799      \n",
      "                                                                 \n",
      "=================================================================\n",
      "Total params: 1309063 (4.99 MB)\n",
      "Trainable params: 1308103 (4.99 MB)\n",
      "Non-trainable params: 960 (3.75 KB)\n",
      "_________________________________________________________________\n"
     ]
    }
   ],
   "source": [
    "model = model_fer((48,48,1))\n",
    "model.summary()"
   ]
  },
  {
   "cell_type": "markdown",
   "id": "82243321",
   "metadata": {},
   "source": [
    "INITIALIZING THE MODEL"
   ]
  },
  {
   "cell_type": "code",
   "execution_count": 14,
   "id": "a2be9db4",
   "metadata": {},
   "outputs": [],
   "source": [
    "epochs = 15\n",
    "steps_per_epoch = train_generator.n//train_generator.batch_size\n",
    "validation_steps = validation_generator.n//validation_generator.batch_size\n",
    "\n",
    "checkpoint = ModelCheckpoint(\"model_weights.h5\", monitor = \"val_accuracy\", save_weights_only = True, mode = \"max\", verbose = 1)\n",
    "callbacks = [checkpoint]"
   ]
  },
  {
   "cell_type": "markdown",
   "id": "a34e8998",
   "metadata": {},
   "source": [
    "TRAINING THE MODEL"
   ]
  },
  {
   "cell_type": "code",
   "execution_count": 15,
   "id": "3834bd19",
   "metadata": {},
   "outputs": [
    {
     "name": "stdout",
     "output_type": "stream",
     "text": [
      "Epoch 1/15\n",
      "448/448 [==============================] - ETA: 0s - loss: 1.6737 - accuracy: 0.3677\n",
      "Epoch 1: saving model to model_weights.h5\n",
      "448/448 [==============================] - 489s 1s/step - loss: 1.6737 - accuracy: 0.3677 - val_loss: 1.4282 - val_accuracy: 0.4466\n",
      "Epoch 2/15\n",
      "448/448 [==============================] - ETA: 0s - loss: 1.3751 - accuracy: 0.4731\n",
      "Epoch 2: saving model to model_weights.h5\n",
      "448/448 [==============================] - 159s 355ms/step - loss: 1.3751 - accuracy: 0.4731 - val_loss: 1.4082 - val_accuracy: 0.4506\n",
      "Epoch 3/15\n",
      "448/448 [==============================] - ETA: 0s - loss: 1.2685 - accuracy: 0.5180\n",
      "Epoch 3: saving model to model_weights.h5\n",
      "448/448 [==============================] - 135s 301ms/step - loss: 1.2685 - accuracy: 0.5180 - val_loss: 1.4262 - val_accuracy: 0.4581\n",
      "Epoch 4/15\n",
      "448/448 [==============================] - ETA: 0s - loss: 1.2030 - accuracy: 0.5448\n",
      "Epoch 4: saving model to model_weights.h5\n",
      "448/448 [==============================] - 140s 312ms/step - loss: 1.2030 - accuracy: 0.5448 - val_loss: 1.1853 - val_accuracy: 0.5463\n",
      "Epoch 5/15\n",
      "448/448 [==============================] - ETA: 0s - loss: 1.1466 - accuracy: 0.5659\n",
      "Epoch 5: saving model to model_weights.h5\n",
      "448/448 [==============================] - 148s 330ms/step - loss: 1.1466 - accuracy: 0.5659 - val_loss: 1.1597 - val_accuracy: 0.5543\n",
      "Epoch 6/15\n",
      "448/448 [==============================] - ETA: 0s - loss: 1.0975 - accuracy: 0.5854\n",
      "Epoch 6: saving model to model_weights.h5\n",
      "448/448 [==============================] - 138s 309ms/step - loss: 1.0975 - accuracy: 0.5854 - val_loss: 1.2560 - val_accuracy: 0.5269\n",
      "Epoch 7/15\n",
      "448/448 [==============================] - ETA: 0s - loss: 1.0511 - accuracy: 0.6052\n",
      "Epoch 7: saving model to model_weights.h5\n",
      "448/448 [==============================] - 142s 316ms/step - loss: 1.0511 - accuracy: 0.6052 - val_loss: 1.1249 - val_accuracy: 0.5762\n",
      "Epoch 8/15\n",
      "448/448 [==============================] - ETA: 0s - loss: 1.0125 - accuracy: 0.6208\n",
      "Epoch 8: saving model to model_weights.h5\n",
      "448/448 [==============================] - 148s 330ms/step - loss: 1.0125 - accuracy: 0.6208 - val_loss: 1.1508 - val_accuracy: 0.5621\n",
      "Epoch 9/15\n",
      "448/448 [==============================] - ETA: 0s - loss: 0.9722 - accuracy: 0.6349\n",
      "Epoch 9: saving model to model_weights.h5\n",
      "448/448 [==============================] - 150s 335ms/step - loss: 0.9722 - accuracy: 0.6349 - val_loss: 1.1434 - val_accuracy: 0.5665\n",
      "Epoch 10/15\n",
      "448/448 [==============================] - ETA: 0s - loss: 0.9359 - accuracy: 0.6548\n",
      "Epoch 10: saving model to model_weights.h5\n",
      "448/448 [==============================] - 144s 321ms/step - loss: 0.9359 - accuracy: 0.6548 - val_loss: 1.1152 - val_accuracy: 0.5858\n",
      "Epoch 11/15\n",
      "448/448 [==============================] - ETA: 0s - loss: 0.8976 - accuracy: 0.6647\n",
      "Epoch 11: saving model to model_weights.h5\n",
      "448/448 [==============================] - 166s 371ms/step - loss: 0.8976 - accuracy: 0.6647 - val_loss: 1.1063 - val_accuracy: 0.5850\n",
      "Epoch 12/15\n",
      "448/448 [==============================] - ETA: 0s - loss: 0.8505 - accuracy: 0.6827\n",
      "Epoch 12: saving model to model_weights.h5\n",
      "448/448 [==============================] - 170s 379ms/step - loss: 0.8505 - accuracy: 0.6827 - val_loss: 1.0968 - val_accuracy: 0.6070\n",
      "Epoch 13/15\n",
      "448/448 [==============================] - ETA: 0s - loss: 0.8296 - accuracy: 0.6903\n",
      "Epoch 13: saving model to model_weights.h5\n",
      "448/448 [==============================] - 183s 408ms/step - loss: 0.8296 - accuracy: 0.6903 - val_loss: 1.2011 - val_accuracy: 0.5586\n",
      "Epoch 14/15\n",
      "448/448 [==============================] - ETA: 0s - loss: 0.7890 - accuracy: 0.7079\n",
      "Epoch 14: saving model to model_weights.h5\n",
      "448/448 [==============================] - 177s 395ms/step - loss: 0.7890 - accuracy: 0.7079 - val_loss: 1.0817 - val_accuracy: 0.6116\n",
      "Epoch 15/15\n",
      "448/448 [==============================] - ETA: 0s - loss: 0.7481 - accuracy: 0.7226\n",
      "Epoch 15: saving model to model_weights.h5\n",
      "448/448 [==============================] - 177s 395ms/step - loss: 0.7481 - accuracy: 0.7226 - val_loss: 1.1160 - val_accuracy: 0.5993\n"
     ]
    }
   ],
   "source": [
    "history = model.fit(\n",
    "    x = train_generator,\n",
    "    steps_per_epoch = steps_per_epoch,\n",
    "    epochs = epochs,\n",
    "    validation_data = validation_generator,\n",
    "    validation_steps = validation_steps,\n",
    "    callbacks = callbacks)"
   ]
  },
  {
   "cell_type": "markdown",
   "id": "1a8f0314",
   "metadata": {},
   "source": [
    "MODEL EVALUATION"
   ]
  },
  {
   "cell_type": "code",
   "execution_count": 3,
   "id": "f16d243f",
   "metadata": {},
   "outputs": [
    {
     "ename": "NameError",
     "evalue": "name 'model' is not defined",
     "output_type": "error",
     "traceback": [
      "\u001b[1;31m---------------------------------------------------------------------------\u001b[0m",
      "\u001b[1;31mNameError\u001b[0m                                 Traceback (most recent call last)",
      "Cell \u001b[1;32mIn[3], line 1\u001b[0m\n\u001b[1;32m----> 1\u001b[0m model\u001b[38;5;241m.\u001b[39mevaluate(validation_generator)\n",
      "\u001b[1;31mNameError\u001b[0m: name 'model' is not defined"
     ]
    }
   ],
   "source": [
    "model.evaluate(validation_generator)"
   ]
  },
  {
   "cell_type": "markdown",
   "id": "318a8287",
   "metadata": {},
   "source": [
    "PLOTTING LOSS"
   ]
  },
  {
   "cell_type": "code",
   "execution_count": 2,
   "id": "d95a818e",
   "metadata": {},
   "outputs": [
    {
     "ename": "NameError",
     "evalue": "name 'plt' is not defined",
     "output_type": "error",
     "traceback": [
      "\u001b[1;31m---------------------------------------------------------------------------\u001b[0m",
      "\u001b[1;31mNameError\u001b[0m                                 Traceback (most recent call last)",
      "Cell \u001b[1;32mIn[2], line 1\u001b[0m\n\u001b[1;32m----> 1\u001b[0m plt\u001b[38;5;241m.\u001b[39mplot(history\u001b[38;5;241m.\u001b[39mhistory[\u001b[38;5;124m'\u001b[39m\u001b[38;5;124mloss\u001b[39m\u001b[38;5;124m'\u001b[39m])\n\u001b[0;32m      2\u001b[0m plt\u001b[38;5;241m.\u001b[39mplot(history\u001b[38;5;241m.\u001b[39mhistory[\u001b[38;5;124m'\u001b[39m\u001b[38;5;124mval_loss\u001b[39m\u001b[38;5;124m'\u001b[39m])\n\u001b[0;32m      3\u001b[0m plt\u001b[38;5;241m.\u001b[39mtitle(\u001b[38;5;124m'\u001b[39m\u001b[38;5;124mModel Loss\u001b[39m\u001b[38;5;124m'\u001b[39m)\n",
      "\u001b[1;31mNameError\u001b[0m: name 'plt' is not defined"
     ]
    }
   ],
   "source": [
    "plt.plot(history.history['loss'])\n",
    "plt.plot(history.history['val_loss'])\n",
    "plt.title('Model Loss')\n",
    "plt.legend(['Train','Validation'], loc = 'upper left')\n",
    "plt.subplots_adjust(top = 1.0, bottom = 0.0, right = 0.95, left = 0.0, hspace = 0.25, wspace = 0.35)"
   ]
  },
  {
   "cell_type": "code",
   "execution_count": 14,
   "id": "e90f6bac",
   "metadata": {},
   "outputs": [
    {
     "data": {
      "image/png": "[encoded data removed]",
      "text/plain": [
       "<Figure size 640x480 with 1 Axes>"
      ]
     },
     "metadata": {},
     "output_type": "display_data"
    }
   ],
   "source": [
    "plt.plot(history.history['accuracy'])\n",
    "plt.plot(history.history['val_accuracy'])\n",
    "plt.title('Model Accuracy')\n",
    "plt.legend(['Train','Validation'], loc = 'upper left')\n",
    "plt.subplots_adjust(top = 1.0, bottom = 0.0, right = 0.95, left = 0.0, hspace = 0.25, wspace = 0.35)"
   ]
  },
  {
   "cell_type": "markdown",
   "id": "64b985eb",
   "metadata": {},
   "source": [
    "SAVING MODEL"
   ]
  },
  {
   "cell_type": "code",
   "execution_count": 15,
   "id": "d42894ba",
   "metadata": {},
   "outputs": [],
   "source": [
    "model_json = model.to_json()\n",
    "with open(\"model_a.json\", \"w\") as json_file:\n",
    "    json_file.write(model_json)"
   ]
  },
  {
   "cell_type": "code",
   "execution_count": null,
   "id": "f5b85f1b",
   "metadata": {},
   "outputs": [],
   "source": []
  }
 ],
 "metadata": {
  "kernelspec": {
   "display_name": "Python 3 (ipykernel)",
   "language": "python",
   "name": "python3"
  },
  "language_info": {
   "codemirror_mode": {
    "name": "ipython",
    "version": 3
   },
   "file_extension": ".py",
   "mimetype": "text/x-python",
   "name": "python",
   "nbconvert_exporter": "python",
   "pygments_lexer": "ipython3",
   "version": "3.11.4"
  }
 },
 "nbformat": 4,
 "nbformat_minor": 5
}
